{
 "cells": [
  {
   "cell_type": "markdown",
   "id": "ce118fbe",
   "metadata": {},
   "source": [
    "# Key Linux commands"
   ]
  },
  {
   "cell_type": "markdown",
   "id": "3a2fa59a",
   "metadata": {},
   "source": [
    "During my learning journey there are some key Linux command that i feel all cloud administrators should be aware of, i've taken the time to document some of these, enjoy!!"
   ]
  },
  {
   "cell_type": "markdown",
   "id": "16f52781",
   "metadata": {},
   "source": [
    "> **Please Note:** - because i'm running commands from my Jupyter Notebook, all of my commands will precede with the \"!\" exclamation character, you won't need this in a linux command line only when you are inside of Jupyter Notebooks running Operating System Level commands"
   ]
  },
  {
   "cell_type": "markdown",
   "id": "230ebe65",
   "metadata": {},
   "source": [
    "## Navigating through a directory"
   ]
  },
  {
   "cell_type": "markdown",
   "id": "42d021b5",
   "metadata": {},
   "source": [
    "*A directory is a location for storing files and also other directories*"
   ]
  },
  {
   "cell_type": "markdown",
   "id": "b4e8ca6a",
   "metadata": {},
   "source": [
    "1) To know what directory you're in use the `pwd` command"
   ]
  },
  {
   "cell_type": "markdown",
   "id": "9aca8560",
   "metadata": {},
   "source": [
    ">`For example:\n",
    "% pwd\n",
    "/Users/jsinghtech`\n"
   ]
  },
  {
   "cell_type": "markdown",
   "id": "d75f5818",
   "metadata": {},
   "source": [
    "2) To change the directory you're in, use `cd` command followed by the name of the directory you want to navigate to"
   ]
  },
  {
   "cell_type": "markdown",
   "id": "5e1ae0c2",
   "metadata": {},
   "source": [
    ">`For example:\n",
    "% pwd\n",
    "/Users/jsinghtech\n",
    "% cd Documents\n",
    "/Users/jsinghtech/Documents`"
   ]
  },
  {
   "cell_type": "markdown",
   "id": "3d7482fd",
   "metadata": {},
   "source": [
    "3) To return to the parent (default) directory, use `cd ..` command"
   ]
  },
  {
   "cell_type": "markdown",
   "id": "c88d7ddb",
   "metadata": {},
   "source": [
    ">`For example:\n",
    "% pwd\n",
    "/Users/jsinghtech/Documents\n",
    "% cd ..\n",
    "/Users/jsinghtech`\n"
   ]
  },
  {
   "cell_type": "markdown",
   "id": "7d8f0965",
   "metadata": {},
   "source": [
    "# Different ways to list files in a directory"
   ]
  },
  {
   "cell_type": "markdown",
   "id": "b9f026df",
   "metadata": {},
   "source": [
    "1) To list files and directories located in the directory you're in, use `ls` command "
   ]
  },
  {
   "cell_type": "markdown",
   "id": "98f3fac7",
   "metadata": {},
   "source": [
    ">`For example: \n",
    "  % ls`\n",
    "    \n",
    "`Shared/           jadebriellesingh/ jsinghtech/`"
   ]
  },
  {
   "cell_type": "markdown",
   "id": "d4c162ca",
   "metadata": {},
   "source": [
    "2) To see more information about each file and directory, use `ls -l` command"
   ]
  },
  {
   "cell_type": "markdown",
   "id": "f78cc3ac",
   "metadata": {},
   "source": [
    ">`For example:\n",
    "  % ls -l` \n",
    "    \n",
    "`total 0\n",
    "drwxrwxrwt   9 root              wheel   288 Feb 13 20:12 Shared/\n",
    "drwxr-xr-x+ 46 jadebriellesingh  staff  1472 Nov  5 17:41 jadebriellesingh/\n",
    "drwxr-xr-x+ 49 jsinghtech        staff  1568 Mar 21 13:49 jsinghtech/`"
   ]
  },
  {
   "cell_type": "markdown",
   "id": "bb631d42",
   "metadata": {},
   "source": [
    "*If the first character is a letter d, then the entry is a directory*"
   ]
  },
  {
   "cell_type": "markdown",
   "id": "10112fd3",
   "metadata": {},
   "source": [
    "3) To view all files including the current and parent directories, use `ls -a` command"
   ]
  },
  {
   "cell_type": "markdown",
   "id": "ea11f475",
   "metadata": {},
   "source": [
    ">`For example:\n",
    "  %ls -a`\n",
    "\n",
    "`./\n",
    "../\n",
    ".CFUserTextEncoding\n",
    ".DS_Store\n",
    ".Trash/\n",
    ".anaconda/\n",
    ".cups/\n",
    ".docker/\n",
    ".ipynb_checkpoints/\n",
    ".ipython/\n",
    ".jupyter/\n",
    "untitled.txt`"
   ]
  },
  {
   "cell_type": "markdown",
   "id": "73573b05",
   "metadata": {},
   "source": [
    "**Disclaimer: there are many ls - commands that can be used, these are justa few common ones**"
   ]
  },
  {
   "cell_type": "markdown",
   "id": "4d8debc4",
   "metadata": {},
   "source": [
    "## Creating and Discarding Directories"
   ]
  },
  {
   "cell_type": "markdown",
   "id": "d11e4c1c",
   "metadata": {},
   "source": [
    "1) To create a new directory use `mkdir` command followed by the new name of the directory "
   ]
  },
  {
   "cell_type": "markdown",
   "id": "ede5a5e6",
   "metadata": {},
   "source": [
    ">`For example:\n",
    "    mkdir new-directory\n",
    "    ls`\n",
    "    \n",
    "`Applications/\n",
    "Desktop/\n",
    "Documents/\n",
    "Downloads/\n",
    "Library/\n",
    "Movies/\n",
    "Music/\n",
    "Pictures/\n",
    "new-directory/`\n",
    "    "
   ]
  },
  {
   "cell_type": "markdown",
   "id": "24621e7c",
   "metadata": {},
   "source": [
    "2) To remove a directory, use `rm -r` command"
   ]
  },
  {
   "cell_type": "markdown",
   "id": "250155f4",
   "metadata": {},
   "source": [
    ">`For example:\n",
    "rm -r new-directory` \n",
    "\n",
    "`ls`\n",
    "\n",
    "`Applications/\n",
    "Coding exercise 1.ipynb\n",
    "Desktop/\n",
    "Documents/\n",
    "Downloads/\n",
    "Library/\n",
    "opt/\n",
    "test/\n",
    "untitled.txt`\n"
   ]
  },
  {
   "cell_type": "markdown",
   "id": "aa4c1bb7",
   "metadata": {},
   "source": [
    "## Copying, Moving, and Renaming Files"
   ]
  },
  {
   "cell_type": "markdown",
   "id": "f8ab1494",
   "metadata": {},
   "source": [
    "1) To copy a file, use `cp` command followed by the file name "
   ]
  },
  {
   "cell_type": "markdown",
   "id": "ede8cfe9",
   "metadata": {},
   "source": [
    ">`For example: \n",
    "cp newpython Documents`\n",
    "\n"
   ]
  },
  {
   "cell_type": "markdown",
   "id": "dbd8bef9",
   "metadata": {},
   "source": [
    "2) To copy a directory, use `cp -r`command. "
   ]
  },
  {
   "cell_type": "markdown",
   "id": "4c629a6c",
   "metadata": {},
   "source": [
    ">`For example:\n",
    "  cp -r Music Documents`\n",
    " \n",
    " "
   ]
  },
  {
   "cell_type": "markdown",
   "id": "872921cf",
   "metadata": {},
   "source": [
    "3) To move a file to its new name, use `mv` command followed by the new name "
   ]
  },
  {
   "cell_type": "markdown",
   "id": "1cfa4703",
   "metadata": {},
   "source": [
    ">`For example: \n",
    "    mv new test`\n",
    "\n",
    "`mv: rename new to test/new: No such file or directory`"
   ]
  },
  {
   "cell_type": "code",
   "execution_count": null,
   "id": "2f9e67ad",
   "metadata": {},
   "outputs": [],
   "source": []
  }
 ],
 "metadata": {
  "kernelspec": {
   "display_name": "Python 3 (ipykernel)",
   "language": "python",
   "name": "python3"
  },
  "language_info": {
   "codemirror_mode": {
    "name": "ipython",
    "version": 3
   },
   "file_extension": ".py",
   "mimetype": "text/x-python",
   "name": "python",
   "nbconvert_exporter": "python",
   "pygments_lexer": "ipython3",
   "version": "3.9.7"
  }
 },
 "nbformat": 4,
 "nbformat_minor": 5
}
